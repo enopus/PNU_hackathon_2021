{
 "cells": [
  {
   "cell_type": "code",
   "execution_count": 1,
   "id": "392e8113",
   "metadata": {
    "ExecuteTime": {
     "end_time": "2021-10-05T11:50:43.463666Z",
     "start_time": "2021-10-05T11:50:43.216338Z"
    }
   },
   "outputs": [],
   "source": [
    "import pandas as pd\n",
    "import numpy as np\n",
    "from sktime.classification.distance_based import KNeighborsTimeSeriesClassifier\n",
    "from sktime.classification.hybrid import HIVECOTEV1\n",
    "from sktime.transformations.panel.compose import ColumnConcatenator\n",
    "from sktime.classification.compose import ColumnEnsembleClassifier\n",
    "from sktime.classification.dictionary_based import BOSSEnsemble\n",
    "from sktime.classification.interval_based import TimeSeriesForestClassifier\n",
    "from sktime.classification.shapelet_based import MrSEQLClassifier\n",
    "from sktime.classification.kernel_based import ROCKETClassifier\n",
    "from sktime.classification.shapelet_based import ShapeletTransformClassifier\n",
    "\n",
    "from sklearn.preprocessing import StandardScaler\n",
    "from sklearn.pipeline import Pipeline\n",
    "from sktime.transformations.panel.rocket import Rocket\n",
    "from sktime.transformations.panel.rocket import MiniRocket\n",
    "from sktime.transformations.panel.rocket import MiniRocketMultivariate"
   ]
  },
  {
   "cell_type": "code",
   "execution_count": 2,
   "id": "509e6d0d",
   "metadata": {
    "ExecuteTime": {
     "end_time": "2021-10-05T11:50:48.771207Z",
     "start_time": "2021-10-05T11:50:48.566140Z"
    }
   },
   "outputs": [],
   "source": [
    "def load_data():\n",
    "    path = './'\n",
    "    data = []\n",
    "    \n",
    "    total_len = 0\n",
    "    \n",
    "    \n",
    "    for i in range(1, 19):\n",
    "        if i < 10:\n",
    "            file_name = f'experiment_0{i}.csv'\n",
    "        \n",
    "        else:\n",
    "            file_name = f'experiment_{i}.csv'\n",
    "            \n",
    "        file = path + file_name\n",
    "        sample = pd.read_csv(file)\n",
    "        data.append(sample)\n",
    "        total_len += len(sample)\n",
    "        \n",
    "        \n",
    "    return data\n",
    "\n",
    "\n",
    "data = load_data()"
   ]
  },
  {
   "cell_type": "code",
   "execution_count": 3,
   "id": "5ecd34e0",
   "metadata": {
    "ExecuteTime": {
     "end_time": "2021-10-05T11:51:00.900601Z",
     "start_time": "2021-10-05T11:51:00.892602Z"
    }
   },
   "outputs": [],
   "source": [
    "long_len = 0\n",
    "\n",
    "for sample in data:\n",
    "    if long_len < len(sample):\n",
    "        long_len = len(sample)\n",
    "\n",
    "# print(long_len)\n",
    "\n",
    "new_data = []\n",
    "cols = []\n"
   ]
  },
  {
   "cell_type": "code",
   "execution_count": 4,
   "id": "aa561a43",
   "metadata": {
    "ExecuteTime": {
     "end_time": "2021-10-05T11:51:11.414275Z",
     "start_time": "2021-10-05T11:51:11.378102Z"
    }
   },
   "outputs": [],
   "source": [
    "for sample in data:\n",
    "    diff = long_len - len(sample)\n",
    "    sample.drop(['Machining_Process'], axis=1, inplace=True)\n",
    "    cols = sample.columns\n",
    "    n_sample = np.array(sample)\n",
    "    re_sample = np.empty((long_len, 47))\n",
    "    # re_sample.fill(np.nan)\n",
    "    re_sample.fill(0)\n",
    "    re_sample[:len(sample), :] = n_sample\n",
    "    new_data.append(re_sample)\n",
    "    \n",
    "new_data = np.reshape(new_data, (-1, long_len, 47))"
   ]
  },
  {
   "cell_type": "code",
   "execution_count": 5,
   "id": "df2dffbd",
   "metadata": {
    "ExecuteTime": {
     "end_time": "2021-10-05T11:51:16.985305Z",
     "start_time": "2021-10-05T11:51:16.981310Z"
    }
   },
   "outputs": [],
   "source": [
    "# worn / unworn 기준\n",
    "label = [0, 0, 0, 0, 0, 1, 1, 1, 1, 1, 0, 0, 1, 1, 1, 1, 0, 1]\n",
    "\n",
    "\n",
    "# 시각 검사 기준\n",
    "label2 = [1, 1, 1, 0, 0, 0, 0, 0, 0, 0, 1, 1, 1, 1, 1, 0, 1, 1]\n",
    "\n",
    "train_index = [0, 1, 2, 3, 4, 5, 6, 7, 8, 9, 10, 12, 13, 14]\n",
    "test_index = [11, 15, 16, 17]\n",
    "\n",
    "\n",
    "train_index = [0, 1, 2, 3, 4, 5, 6, 7, 8, 9, 10, 12]\n",
    "test_index = [11, 13, 14, 15, 16, 17]\n"
   ]
  },
  {
   "cell_type": "code",
   "execution_count": null,
   "id": "b19f6b91",
   "metadata": {},
   "outputs": [],
   "source": [
    "# CNN 적용 시\n",
    "\n",
    "# x_train = []\n",
    "# x_test = []\n",
    "\n",
    "y_train = []\n",
    "y_test = []\n",
    "\n",
    "for i in train_index:\n",
    "#     x_train.append(new_data[i])\n",
    "    y_train.append(label[i])\n",
    "    \n",
    "for i in test_index:\n",
    "#     x_test.append(new_data[i])\n",
    "    y_test.append(label[i])\n"
   ]
  },
  {
   "cell_type": "code",
   "execution_count": null,
   "id": "a2859f58",
   "metadata": {},
   "outputs": [],
   "source": [
    "# x_test = np.reshape(x_test, (-1, long_len, 47))\n",
    "# x_train = np.reshape(x_train, (-1, long_len, 47))"
   ]
  },
  {
   "cell_type": "code",
   "execution_count": null,
   "id": "f4c046ea",
   "metadata": {},
   "outputs": [],
   "source": [
    "# SKTIME 적용 시\n",
    "skdata = np.empty((len(new_data), 47))\n",
    "# skdata.fill(np.nan)\n",
    "skdata.fill(0)\n",
    "skdata = pd.DataFrame(skdata, columns=cols)"
   ]
  },
  {
   "cell_type": "code",
   "execution_count": null,
   "id": "6e0dcb00",
   "metadata": {},
   "outputs": [],
   "source": [
    "for index, sample in enumerate(new_data):\n",
    "    for i in range(0, 47):\n",
    "        # value = list(sample[:, i])\n",
    "        value = pd.Series(sample[:, i])\n",
    "        # value = value.transpose()\n",
    "        skdata = skdata.astype('object')\n",
    "        skdata.iat[index, i] = value"
   ]
  },
  {
   "cell_type": "code",
   "execution_count": null,
   "id": "dc54cf78",
   "metadata": {},
   "outputs": [],
   "source": [
    "x_train = skdata.iloc[train_index, :]\n",
    "x_test = skdata.iloc[test_index, :]"
   ]
  },
  {
   "cell_type": "code",
   "execution_count": null,
   "id": "3fa14df6",
   "metadata": {},
   "outputs": [],
   "source": [
    "y_train = np.array(y_train)\n",
    "y_test = np.array(y_test)"
   ]
  },
  {
   "cell_type": "code",
   "execution_count": null,
   "id": "1d2ce461",
   "metadata": {},
   "outputs": [],
   "source": [
    "\n",
    "# steps = [\n",
    "#     ('concatenate', ColumnConcatenator),\n",
    "#     ('classify', HIVECOTEV1()),\n",
    "#     ]\n"
   ]
  },
  {
   "cell_type": "code",
   "execution_count": null,
   "id": "9618e7c2",
   "metadata": {},
   "outputs": [],
   "source": [
    "# trans = ColumnConcatenator()"
   ]
  },
  {
   "cell_type": "code",
   "execution_count": null,
   "id": "cd6c478c",
   "metadata": {},
   "outputs": [],
   "source": [
    "steps = [\n",
    "    (\"concatenate\", ColumnConcatenator()),\n",
    "    (\"classify\", TimeSeriesForestClassifier(n_estimators=100)),\n",
    "]\n"
   ]
  },
  {
   "cell_type": "code",
   "execution_count": null,
   "id": "352738d8",
   "metadata": {},
   "outputs": [],
   "source": [
    "# trans = MiniRocketMultivariate()\n",
    "# x_train = trans.fit_transform(x_train)\n",
    "# x_test = trans.fit_transform(x_test)"
   ]
  },
  {
   "cell_type": "code",
   "execution_count": null,
   "id": "73399ec5",
   "metadata": {},
   "outputs": [],
   "source": [
    "\n",
    "# rclf = ROCKETClassifier(random_state=1002)\n",
    "# rclf.fit(x_train, y_train)\n",
    "# y_pred = rclf.predict(x_test)\n",
    "# score = rclf.score(x_test, y_test)"
   ]
  },
  {
   "cell_type": "code",
   "execution_count": null,
   "id": "c59012a5",
   "metadata": {},
   "outputs": [],
   "source": [
    "# sclf = ShapeletTransformClassifier(random_state=1002)\n",
    "trans = ColumnConcatenator()\n",
    "x_train = trans.fit_transform(x_train)\n",
    "x_test = trans.transform(x_test)"
   ]
  },
  {
   "cell_type": "code",
   "execution_count": null,
   "id": "1ffaebc0",
   "metadata": {},
   "outputs": [],
   "source": [
    "# sclf.fit(x_train, y_train)\n",
    "# y_pred = sclf.predict(x_test)\n",
    "# score = sclf.score(x_test, y_test)"
   ]
  },
  {
   "cell_type": "code",
   "execution_count": null,
   "id": "1c50aa66",
   "metadata": {},
   "outputs": [],
   "source": [
    "# x_train = scaler.fit_transform(x_train)\n",
    "# x_test = scaler.transform(x_test)"
   ]
  },
  {
   "cell_type": "code",
   "execution_count": null,
   "id": "8000e69d",
   "metadata": {},
   "outputs": [],
   "source": [
    "hive = HIVECOTEV1(random_state=1002)\n",
    "hive.fit(x_train, y_train)\n",
    "y_pred = hive.predict(x_test)\n",
    "score = hive.score(x_test, y_test)"
   ]
  }
 ],
 "metadata": {
  "kernelspec": {
   "display_name": "Python 3",
   "language": "python",
   "name": "python3"
  },
  "language_info": {
   "codemirror_mode": {
    "name": "ipython",
    "version": 3
   },
   "file_extension": ".py",
   "mimetype": "text/x-python",
   "name": "python",
   "nbconvert_exporter": "python",
   "pygments_lexer": "ipython3",
   "version": "3.8.8"
  },
  "varInspector": {
   "cols": {
    "lenName": 16,
    "lenType": 16,
    "lenVar": 40
   },
   "kernels_config": {
    "python": {
     "delete_cmd_postfix": "",
     "delete_cmd_prefix": "del ",
     "library": "var_list.py",
     "varRefreshCmd": "print(var_dic_list())"
    },
    "r": {
     "delete_cmd_postfix": ") ",
     "delete_cmd_prefix": "rm(",
     "library": "var_list.r",
     "varRefreshCmd": "cat(var_dic_list()) "
    }
   },
   "types_to_exclude": [
    "module",
    "function",
    "builtin_function_or_method",
    "instance",
    "_Feature"
   ],
   "window_display": false
  }
 },
 "nbformat": 4,
 "nbformat_minor": 5
}
